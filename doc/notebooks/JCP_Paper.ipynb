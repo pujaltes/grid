{
  "cells": [
    {
      "cell_type": "markdown",
      "metadata": {},
      "source": [
        "# Grid publication examples\n",
        "\n",
        "This notebook provides the examples of the use of [`qc-grid`](https://grid.qcdevs.org/index.html) provided in the publication article.\n",
        "\n",
        "## Install dependencies and download data\n",
        "This notebook requires several dependencies and data. The next cell will install the required dependencies if they are not already installed. It will also download the data required for the examples if it is not already downloaded."
      ]
    },
    {
      "cell_type": "code",
      "execution_count": null,
      "metadata": {},
      "outputs": [],
      "source": [
        "! python -m pip install numpy\n",
        "! python -m pip install matplotlib\n",
        "! python -m pip install scipy\n",
        "! python -m pip install urllib3\n",
        "! python -m pip install git+https://github.com/theochem/grid.git\n",
        "! python -m pip install git+https://github.com/theochem/iodata.git\n",
        "! python -m pip install git+https://github.com/maximilianvz/gbasis.git@address_issue_113\n",
        "\n",
        "import os\n",
        "from urllib.request import urlretrieve\n",
        "\n",
        "# download the required data files\n",
        "file_path = \"ch2o_q+0.fchk\"\n",
        "if not os.path.isfile(file_path):\n",
        "    url = \"https://github.com/theochem/grid/blob/master/doc/notebooks/ch2o_q%2B0.fchk?raw=true\"\n",
        "    urlretrieve(url, file_path)"
      ]
    },
    {
      "cell_type": "markdown",
      "metadata": {},
      "source": [
        "## Grid Construction and Integration\n",
        "\n",
        "### 1. Radial Grids: One-Dimensional Grids and Radial Transformation\n",
        "\n",
        "The following example shows how to build a radial grid by combining a one-dimensional grid (e.g., Gauss-Chebyshev Type 2) and a radial transformation (e.g., Becke transformation)."
      ]
    },
    {
      "cell_type": "code",
      "execution_count": null,
      "metadata": {},
      "outputs": [],
      "source": [
        "import numpy as np\n",
        "from grid.onedgrid import GaussChebyshevType2\n",
        "from grid.rtransform import BeckeRTransform\n",
        "\n",
        "# Generate 1D grid on [-1, 1] interval\n",
        "oned = GaussChebyshevType2(30)\n",
        "print(\"Number of 1D grid points: \", oned.size)   # outputs 30\n",
        "print(\"Domain of 1D grid: \", oned.domain)        # outputs (-1, 1)\n",
        "\n",
        "# Transform 1D grid using Becke transformation\n",
        "rgrid = BeckeRTransform(1.e-4, 1.5).transform_1d_grid(oned)\n",
        "\n",
        "# Integrate Gaussian s-function from 0 to infinity\n",
        "integral = rgrid.integrate(np.exp(-0.5 * rgrid.points**2))\n",
        "print(\"Integral of Gaussian s-function: \", integral)   # outputs sqrt(pi/2)"
      ]
    },
    {
      "cell_type": "markdown",
      "metadata": {},
      "source": [
        "### 2. Angular Grids\n",
        "\n",
        "The following example shows construct and integrate over an angular grid."
      ]
    },
    {
      "cell_type": "code",
      "execution_count": null,
      "metadata": {},
      "outputs": [],
      "source": [
        "import numpy as np\n",
        "from grid import AngularGrid\n",
        "\n",
        "# Make an instance of AngularGrid given a Lebedev-Laikov grid size\n",
        "g = AngularGrid(size=140, use_spherical=False)\n",
        "print(\"Number of angular grid points: \", g.size)   # outputs 146\n",
        "print(\"Shape of angular grid points: \", g.points.shape)   # outputs (146, 3)\n",
        "print(\"Shape of angular grid weights: \", g.weights.shape) # outputs (146,)\n",
        "\n",
        "# Confirm that angular grid points are on the unit sphere\n",
        "norm = np.linalg.norm(g.points, axis=1)\n",
        "print(\"Norm of the grid points is all one:\", np.all(np.abs(norm - 1.0) < 1e-8))\n",
        "\n",
        "# Evaluate surface area of the unit sphere,\n",
        "# i.e., integrate constant function 1\n",
        "integral = g.integrate(np.ones(g.size))\n",
        "print(\"Integral of constant function 1 over the sphere: \", integral)   # 4*pi"
      ]
    },
    {
      "cell_type": "markdown",
      "metadata": {},
      "source": [
        "### 3. Atomic Grid\n",
        "\n",
        "The following example shows three ways to construct an atomic grid."
      ]
    },
    {
      "cell_type": "code",
      "execution_count": null,
      "metadata": {},
      "outputs": [],
      "source": [
        "from grid.atomgrid import AtomGrid\n",
        "\n",
        "# Option 1: using radial grid and degrees of Lebedev-Laikov angular grid\n",
        "atgrid = AtomGrid(rgrid, degrees=[11])\n",
        "print(\"Number of atomic grid points: \", atgrid.size) # outputs 1500\n",
        "\n",
        "# Option 2: using radial grid and  atomic radius & sectors\n",
        "atgrid = AtomGrid.from_pruned(\n",
        "    rgrid, radius=0.5, sectors_r=[0.5, 1.0, 1.5], sectors_degree=[3, 7, 5, 3]\n",
        ")\n",
        "print(\"Number of atomic grid points: \", atgrid.size) # outputs 264\n",
        "\n",
        "# Option 3: using radial grid, atomic number, and preset\n",
        "atgrid = AtomGrid.from_preset(atnum=1, preset=\"coarse\", rgrid=rgrid)\n",
        "print(\"Number of atomic grid points: \", atgrid.size) # outputs 1036"
      ]
    },
    {
      "cell_type": "markdown",
      "metadata": {},
      "source": [
        "### 4. Molecular Grid\n",
        "\n",
        "A molecular grid is constructed by combining atomic grids centered at each atom. A molecular grid needs to use atoms in molecules (AIM) weights for achieving a proper integration over the molecular grid. The following example shows how to construct a molecular grid and integrate over it.\n",
        "\n",
        "####  Provide data needed for molecular grid construction\n",
        "\n",
        "Fist, we need the data needed for molecular grid construction, this includes the molecular geometry, the atomic numbers and for testing purpose, a way to get the function values at the grid points. In this example, we use formaldehyde as the molecule and as function values its electron density.\n",
        "\n",
        "##### Select the AIM weights scheme"
      ]
    },
    {
      "cell_type": "code",
      "execution_count": null,
      "metadata": {},
      "outputs": [],
      "source": [
        "from grid.becke import BeckeWeights\n",
        "\n",
        "# Make an instance of BeckeWeights class\n",
        "aim_weights = BeckeWeights(radii=None, order=3)"
      ]
    },
    {
      "cell_type": "markdown",
      "metadata": {},
      "source": [
        "##### Load formaldehyde molecule data (molecular geometry, nuclear charges and atomic coordinates)"
      ]
    },
    {
      "cell_type": "code",
      "execution_count": null,
      "metadata": {},
      "outputs": [],
      "source": [
        "from iodata import load_one\n",
        "\n",
        "# Load formatted-checkpoint file of formaldehyde molecule. Source:\n",
        "# https://github.com/theochem/grid/blob/master/doc/notebooks/ch2o_q%2B0.fchk\n",
        "mol = load_one(\"ch2o_q+0.fchk\")\n",
        "\n",
        "# Get atomic numbers, core numbers, and Cartesian coordinates\n",
        "atnums, atcharges, atcoords = mol.atnums, mol.atcorenums, mol.atcoords\n",
        "\n",
        "print(\"Atomic Numbers: \", atnums)\n",
        "print(\"Atomic Core Charges: \", atcharges)\n",
        "print(\"Atomic Coordinates: \", atcoords)"
      ]
    },
    {
      "cell_type": "markdown",
      "metadata": {},
      "source": [
        "#### Construct the molecular grid\n",
        "\n",
        "-  **From a set of atomic grids (one for each atom)**"
      ]
    },
    {
      "cell_type": "code",
      "execution_count": null,
      "metadata": {},
      "outputs": [],
      "source": [
        "from grid.molgrid import MolGrid\n",
        "\n",
        "# Option 1: Construct a molecular grid from atomic grids\n",
        "atgrids = [\n",
        "    AtomGrid(rgrid, degrees=[51], center=atcoords[0]),  # for oxygen\n",
        "    AtomGrid(rgrid, degrees=[25], center=atcoords[1]),  # For carbon\n",
        "    AtomGrid(rgrid, degrees=[10], center=atcoords[2]),  # for hydrogen 1\n",
        "    AtomGrid(rgrid, degrees=[10], center=atcoords[3]),   # for hydrogen 2\n",
        "]\n",
        "molgrid = MolGrid(atnums, atgrids, aim_weights, store=True)\n",
        "\n",
        "print(\"Number molecular grid points: \", molgrid.size)   # outputs 39120"
      ]
    },
    {
      "cell_type": "markdown",
      "metadata": {},
      "source": [
        "-  **Using predefined pruned grids corresponding to each nucleus**"
      ]
    },
    {
      "cell_type": "code",
      "execution_count": null,
      "metadata": {},
      "outputs": [],
      "source": [
        "# Option 2: Construct a molecular grid from predefined pruned angular grids\n",
        "molgrid = MolGrid.from_preset(\n",
        "    atnums, atcoords, preset=\"fine\", rgrid=rgrid, aim_weights=aim_weights, store=True\n",
        ")\n",
        "\n",
        "print(\"Number molecular grid points: \", molgrid.size)   # outputs 9892"
      ]
    },
    {
      "cell_type": "markdown",
      "metadata": {},
      "source": [
        "-  **From the size of the angular grid**"
      ]
    },
    {
      "cell_type": "code",
      "execution_count": null,
      "metadata": {},
      "outputs": [],
      "source": [
        "# Option 3: Construct a molecular grid given size (40) of the angular grid\n",
        "molgrid = MolGrid.from_size(\n",
        "    atnums, atcoords, 40, rgrid, aim_weights, store=True\n",
        ")\n",
        "\n",
        "print(\"Number molecular grid points: \", molgrid.size)   # outputs 6000"
      ]
    },
    {
      "cell_type": "markdown",
      "metadata": {},
      "source": [
        "-  **From radial sectors and angular degrees associated with each sector**"
      ]
    },
    {
      "cell_type": "code",
      "execution_count": null,
      "metadata": {},
      "outputs": [],
      "source": [
        "# Option 4: Construct a molecular grid from user-defined pruned grids\n",
        "sectors_r = [\n",
        "    [0.25, 1.0, 1.5],   # for oxygen\n",
        "    [0.50, 1.0, 1.5],   # for carbon\n",
        "    [1.0],   # for hydrogen\n",
        "    [1.0],   # for hydrogen\n",
        "]\n",
        "sectors_deg = [\n",
        "    [10, 15, 25, 10],   # for oxygen\n",
        "    [5, 10, 20, 10],   # for carbon\n",
        "    [5, 10],   # for hydrogen\n",
        "    [5, 10],   # for hydrogen\n",
        "]\n",
        "radius = 1.0\n",
        "molgrid = MolGrid.from_pruned(\n",
        "    atnums, atcoords, radius, sectors_r, rgrid, aim_weights, sectors_deg, store=True\n",
        ")\n",
        "\n",
        "print(\"Number molecular grid points: \", molgrid.size)   # outputs 5664"
      ]
    },
    {
      "cell_type": "markdown",
      "metadata": {},
      "source": [
        "#### Integrate molecular properties over the molecular grid"
      ]
    },
    {
      "cell_type": "code",
      "execution_count": null,
      "metadata": {},
      "outputs": [],
      "source": [
        "from gbasis.wrappers import from_iodata\n",
        "from gbasis.evals.density import evaluate_density\n",
        "\n",
        "# Evaluate the electron density in the grid points\n",
        "basis = from_iodata(mol)\n",
        "rdm = mol.one_rdms[\"scf\"]\n",
        "rho = evaluate_density(rdm, basis, molgrid.points)\n",
        "\n",
        "print(\"Integral of electron density: \", molgrid.integrate(rho)) # outputs 16.00"
      ]
    },
    {
      "cell_type": "markdown",
      "metadata": {},
      "source": [
        "### 5. Cubic Grids\n",
        "\n",
        "#### Construct uniform cubic grid from three axes, the corresponding step-sizes, the origin, and the shape (number of steps in each axis)"
      ]
    },
    {
      "cell_type": "code",
      "execution_count": null,
      "metadata": {},
      "outputs": [],
      "source": [
        "import numpy as np\n",
        "from grid import UniformGrid\n",
        "\n",
        "# Make 3D cubic grid centered at the origin with points 0.01 units apart\n",
        "origin = np.array([0., 0., 0.])\n",
        "axes = np.array([[0.01, 0., 0.], [0., 0.01, 0.], [0., 0., 0.01]])\n",
        "shape = np.array([50, 50, 50])\n",
        "g = UniformGrid(origin, axes, shape, weight=\"Trapezoid\")\n",
        "\n",
        "print(\"Number of cubic grid points: \", g.size)   # outputs 125000"
      ]
    },
    {
      "cell_type": "markdown",
      "metadata": {},
      "source": [
        "#### Construct a uniform cubic grid from molecule specifications"
      ]
    },
    {
      "cell_type": "code",
      "execution_count": null,
      "metadata": {},
      "outputs": [],
      "source": [
        "# Construct a cubic grid with additional padding of 5 \n",
        "# and points 0.2 units apart\n",
        "g = UniformGrid.from_molecule(\n",
        "    atnums, atcoords, spacing=0.2, extension=5.0, rotate=True\n",
        ")\n",
        "\n",
        "print(\"Number of cubic grid points: \", g.size) # outputs 232356"
      ]
    },
    {
      "cell_type": "markdown",
      "metadata": {},
      "source": [
        "#### Construct non-uniform cubic grid from three one-dimensional (their tensor product) "
      ]
    },
    {
      "cell_type": "code",
      "execution_count": null,
      "metadata": {},
      "outputs": [],
      "source": [
        "from grid import GaussChebyshevType2, GaussLegendre, Tensor1DGrids\n",
        "\n",
        "# Make instances of 1D grids\n",
        "oned1 = GaussChebyshevType2(30)\n",
        "oned2 = GaussLegendre(20)\n",
        "oned3 = GaussLegendre(30)\n",
        "\n",
        "# Make Tensor1DGrids grid by combining 1D grids\n",
        "g = Tensor1DGrids(oned1, oned2, oned3)\n",
        "\n",
        "print(\"cubic grid # of points: \", g.size)      # outputs 18000"
      ]
    },
    {
      "cell_type": "markdown",
      "metadata": {},
      "source": [
        "## Interpolation and Differentiation:\n",
        "\n",
        "The following example interpolates the electron density in the plane containing the formaldehyde."
      ]
    },
    {
      "cell_type": "code",
      "execution_count": null,
      "metadata": {},
      "outputs": [],
      "source": [
        "import numpy as np\n",
        "\n",
        "# Sample 100 points uniformly along x and y axes\n",
        "x_vals = np.linspace(-4, 4, 100)\n",
        "y_vals = x_vals\n",
        "\n",
        "# Sample 3D points uniformly in the molecular xy-plane (z=0)\n",
        "x_vals, y_vals = np.meshgrid(x_vals, y_vals)\n",
        "x_vals, y_vals = x_vals.flatten(), y_vals.flatten()\n",
        "z_vals = np.zeros_like(x_vals)\n",
        "points = np.array([x_vals, y_vals, z_vals]).T # interpolation requires 3D points\n",
        "\n",
        "# Interpolate electron density in the xy-plane\n",
        "func_interpolation = molgrid.interpolate(rho)\n",
        "rho_inter = func_interpolation(points=points)\n",
        "\n",
        "# Compute expected electron density using GBasis\n",
        "rho_expected = evaluate_density(rdm, basis, points)\n",
        "\n",
        "# Compare interpolated and expected electron density\n",
        "max_error = np.max(abs(rho_inter - rho_expected))\n",
        "print(\"Maximum interpolation error: \", max_error) # outputs 0.219"
      ]
    },
    {
      "cell_type": "markdown",
      "metadata": {},
      "source": [
        "Compute gradient from the interpolated electron density."
      ]
    },
    {
      "cell_type": "code",
      "execution_count": null,
      "metadata": {},
      "outputs": [],
      "source": [
        "# Compute the gradient at the interpolated points\n",
        "grad_rho_inter = func_interpolation(points=points, deriv=1)"
      ]
    },
    {
      "cell_type": "markdown",
      "metadata": {},
      "source": [
        "(optional) Code for plotting the electron density in fromaldehyde plane."
      ]
    },
    {
      "cell_type": "code",
      "execution_count": null,
      "metadata": {},
      "outputs": [],
      "source": [
        "import matplotlib.pyplot as plt\n",
        "\n",
        "fig = plt.figure(figsize=(8, 6))\n",
        "ax1 = fig.add_subplot(111)\n",
        "\n",
        "# Plot the interpolated electron density as a 2D heatmap with specified color scale limits\n",
        "heatmap = ax1.imshow(rho_inter.reshape(100,100), cmap=\"viridis\", interpolation=\"none\", extent=[-4, 4, -4, 4], vmin=0, vmax=0.8)\n",
        "cbar = plt.colorbar(heatmap, ax=ax1, label=\"Electron Density\")\n",
        "cbar.ax.tick_params(labelsize=14)\n",
        "cbar.ax.set_ylabel(\"Electron Density\", fontsize=14) \n",
        "\n",
        "# Add symbols to the corresponding coordinates\n",
        "xy_coords = mol.atcoords[:, :2]\n",
        "\n",
        "symbols = ['O', 'C', 'H', 'H']\n",
        "\n",
        "for coord, symbol in zip(xy_coords, symbols):\n",
        "    ax1.text(coord[0], coord[1], symbol, color='red', ha='center', va='center', fontsize=14,fontweight='bold')\n",
        "\n",
        "ax1.tick_params(axis='both', which='both', labelsize=14)\n",
        "# Adjust the limits to fit your data and set labels and title\n",
        "ax1.set_xlim((-4, 4))\n",
        "ax1.set_ylim((-4, 4))\n",
        "ax1.set_xlabel(\"X\", fontsize=14)\n",
        "ax1.set_ylabel(\"Y\", fontsize=14)\n",
        "ax1.set_title(\"Interpolated Electron density for formaldehyde on the molecule plane\")\n",
        "plt.show()\n"
      ]
    },
    {
      "cell_type": "markdown",
      "metadata": {},
      "source": [
        "## Solving Poisson Equation\n",
        "\n",
        "The following example solves the Poisson equation on an atomic grid for unit-charge distribution:\n",
        "\n",
        "\\begin{equation}\n",
        "    \\rho(r, \\theta, \\phi) = \\bigg( \\frac{\\alpha}{\\pi} \\bigg)^{1.5} e^{-\\alpha r_A^2},\n",
        "\\end{equation}\n",
        "where $\\alpha = 0.25$ and $r_A$ is the radius centered at the coordinate $[0, 1, 0]$."
      ]
    },
    {
      "cell_type": "code",
      "execution_count": null,
      "metadata": {},
      "outputs": [],
      "source": [
        "# import numpy as np\n",
        "# from grid.onedgrid import Simpson\n",
        "# from grid.poisson import solve_poisson_bvp\n",
        "# from grid.rtransform import BeckeRTransform, InverseRTransform\n",
        "# from scipy.special import erf\n",
        "\n",
        "# center = np.array([0, 1, 0])\n",
        "\n",
        "# def charge_distribution(x, alpha=0.25):\n",
        "#     r = np.linalg.norm(x - center, axis=1)\n",
        "#     return (alpha / np.pi) ** (3.0 / 2.0) * np.exp(-alpha * r**2.0)\n",
        "\n",
        "# def actual_potential(x, alpha=0.25):\n",
        "#     r_PC = np.linalg.norm(x - center, axis=1)\n",
        "#     desired = erf(np.sqrt(alpha) * r_PC) / r_PC\n",
        "#     desired[r_PC == 0.0] = 0.0\n",
        "#     return desired\n",
        "\n",
        "# btf = BeckeRTransform(rmin=0.0, R=1.5)\n",
        "\n",
        "# # Evaluate unit-charge density on atomic grid points\n",
        "# func_vals = charge_distribution(atgrid.points)\n",
        "\n",
        "# # Solve for the potential and evaluate it on atomic grid points\n",
        "# potential = solve_poisson_bvp(\n",
        "#         atgrid,\n",
        "#         func_vals,\n",
        "#         InverseRTransform(btf),\n",
        "#         include_origin=True,\n",
        "# )\n",
        "# potential_values = potential(atgrid.points)\n",
        "\n",
        "# # Calculate the error between actual and solved potential\n",
        "# err = np.abs(actual_potential(atgrid.points) - potential_values)\n",
        "# print(\"Mean error in potential: \")\n",
        "# print(f\"Max: {np.max(err)}, Mean: {np.mean(err)}, Std: {np.std(err)}\")\n"
      ]
    },
    {
      "cell_type": "markdown",
      "metadata": {},
      "source": [
        "## Multipole Moments\n",
        "The following example illustrates how to use Grid's moment function to calculate the dipole moment $\\mu$ of formaldehyde."
      ]
    },
    {
      "cell_type": "code",
      "execution_count": null,
      "metadata": {},
      "outputs": [],
      "source": [
        "# Dictionary of isotopic mass\n",
        "isotopic_masses = {\n",
        "    1: 1.007825, \n",
        "    6: 12.0,\n",
        "    8: 15.994915\n",
        "}\n",
        "\n",
        "# Calculate the center of mass of the molecule\n",
        "masses = np.array([isotopic_masses[atnum] for atnum in atnums])\n",
        "center = np.array([np.sum(atcoords * masses[:, None], axis=0) / np.sum(masses)])\n",
        "\n",
        "# Calculate the Cartesian moments of the electron density\n",
        "integrals, orders = molgrid.moments(\n",
        "    1, center, rho, type_mom=\"cartesian\", return_orders=True\n",
        ")\n",
        "\n",
        "result = -integrals\n",
        "# Calculate first term: sum_i Z_i (R_i - R_c)\n",
        "for i, atcoord in enumerate(atcoords):\n",
        "    # calculate Z_a (X_a - X_c)**{n_x} (Y_a - Y_c)**{n_y} (Z_a - Z_c)**{n_z}\n",
        "    cent_pts_with_order = (atcoord - center) ** orders[:, None]\n",
        "    cent_pts_with_order = np.prod(cent_pts_with_order, axis=2)\n",
        "    result += atcharges[i] * cent_pts_with_order\n",
        "\n",
        "dipole_moment = np.ravel(result[1:])        \n",
        "print(\"Dipole moment: \", dipole_moment)\n",
        "# ouputs -9.398e-01 -4.076e-04 -6.545e-06"
      ]
    }
  ],
  "metadata": {
    "kernelspec": {
      "display_name": "grid_env",
      "language": "python",
      "name": "python3"
    },
    "language_info": {
      "codemirror_mode": {
        "name": "ipython",
        "version": 3
      },
      "file_extension": ".py",
      "mimetype": "text/x-python",
      "name": "python",
      "nbconvert_exporter": "python",
      "pygments_lexer": "ipython3",
      "version": "3.12.1"
    }
  },
  "nbformat": 4,
  "nbformat_minor": 2
}
